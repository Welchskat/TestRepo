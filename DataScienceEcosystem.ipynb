{
 "cells": [
  {
   "cell_type": "markdown",
   "id": "ef460e94-9af6-49a4-a3ff-5b7f17f03966",
   "metadata": {},
   "source": [
    "<h1> Data Science Tools and Ecosystem </h1>"
   ]
  },
  {
   "cell_type": "markdown",
   "id": "7f121c36-d612-4fd5-8d2a-7a23f9ab73f9",
   "metadata": {},
   "source": [
    "<h2> Author </h2>\n",
    "Katrina Welch"
   ]
  },
  {
   "cell_type": "markdown",
   "id": "7e3758cd-c459-4f91-99e1-84cc3ae28dc6",
   "metadata": {},
   "source": [
    "# Introduction\n",
    "\n",
    "In this notebook, Data Science Tools and Ecosystem are summarized. "
   ]
  },
  {
   "cell_type": "markdown",
   "id": "04ef4308-250b-476b-b51f-1a64bcbdb0c9",
   "metadata": {},
   "source": [
    "<h1> Objectives </h1>\n",
    "\n",
    "- List popular languages\n",
    "- Data Science Libraries\n",
    "- Data Science Tools \n",
    "- Introduction to arithmetic expression examples\n",
    "- Multiply and add numbers\n",
    "- Convert minutes to hours"
   ]
  },
  {
   "cell_type": "markdown",
   "id": "55cbb93d-8cd9-47e6-8f09-7edf407ce7e9",
   "metadata": {},
   "source": [
    "# Data Science Popular Languages\n",
    "\n",
    "Some of the popular languages that Data Scientists use are: \n",
    "\n",
    "1. Python\n",
    "2. R\n",
    "3. SQL\n",
    "4. Java\n",
    "5. C++\n",
    "6. C#"
   ]
  },
  {
   "cell_type": "markdown",
   "id": "df8282e3-eae1-430c-bf6e-9d85c06e2f27",
   "metadata": {},
   "source": [
    "# Data Science Libraries\n",
    "\n",
    "Some of the commonly used libraries used by Data Scientists include: \n",
    "\n",
    "1. Pandas\n",
    "2. NumPy\n",
    "3. TensorFlow\n",
    "4. SciPy\n",
    "5. Plotly\n",
    "6. PyTorch\n",
    "7. Seaborn\n",
    "8. Matplotlib"
   ]
  },
  {
   "cell_type": "markdown",
   "id": "97b7f36f-9919-48fb-ac20-92631b08407c",
   "metadata": {},
   "source": [
    "# Data Science Tools\n",
    "\n",
    "| Data Science Tools |\n",
    "| ------------ |\n",
    "| Apache Spark | \n",
    "| Apache Hadoop |\n",
    "| Jupyter Notebook |"
   ]
  },
  {
   "cell_type": "markdown",
   "id": "48aa7ad5-be6e-48b9-9aba-5e1c9a96335f",
   "metadata": {},
   "source": [
    "# Arithmetic Expression Examples\n",
    "\n",
    "<h3> Below are a few examples of evaluating arithmetic expressions in Python. </h3>\n"
   ]
  },
  {
   "cell_type": "markdown",
   "id": "12aff5ff-7e90-4488-b473-bc25e2b63324",
   "metadata": {},
   "source": [
    "# Multiply and Add Numbers"
   ]
  },
  {
   "cell_type": "code",
   "execution_count": 8,
   "id": "1a9a8bb1-22b5-4f44-8682-d0046397034f",
   "metadata": {},
   "outputs": [
    {
     "data": {
      "text/plain": [
       "17"
      ]
     },
     "execution_count": 8,
     "metadata": {},
     "output_type": "execute_result"
    }
   ],
   "source": [
    "# This is a multiple of two numbers adding one number\n",
    "\n",
    "(3 * 4) + 5"
   ]
  },
  {
   "cell_type": "markdown",
   "id": "74ba0c24-7d2f-4785-b5d2-a7b1cc33e2fa",
   "metadata": {},
   "source": [
    "# Convert Minutes to Hours"
   ]
  },
  {
   "cell_type": "code",
   "execution_count": 9,
   "id": "f7faa8be-94c1-43a9-af3c-6735e6fcf3c0",
   "metadata": {},
   "outputs": [
    {
     "data": {
      "text/plain": [
       "3.3333333333333335"
      ]
     },
     "execution_count": 9,
     "metadata": {},
     "output_type": "execute_result"
    }
   ],
   "source": [
    "# This will convert Minutes to Hours\n",
    "\n",
    "(200 / 60)"
   ]
  },
  {
   "cell_type": "code",
   "execution_count": null,
   "id": "58303427-4c05-4257-ab76-dbc7399af3e4",
   "metadata": {},
   "outputs": [],
   "source": []
  }
 ],
 "metadata": {
  "kernelspec": {
   "display_name": "Python 3 (ipykernel)",
   "language": "python",
   "name": "python3"
  },
  "language_info": {
   "codemirror_mode": {
    "name": "ipython",
    "version": 3
   },
   "file_extension": ".py",
   "mimetype": "text/x-python",
   "name": "python",
   "nbconvert_exporter": "python",
   "pygments_lexer": "ipython3",
   "version": "3.11.7"
  }
 },
 "nbformat": 4,
 "nbformat_minor": 5
}
